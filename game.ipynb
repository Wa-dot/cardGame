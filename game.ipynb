{
 "cells": [
  {
   "cell_type": "code",
   "execution_count": 3,
   "metadata": {},
   "outputs": [
    {
     "name": "stdout",
     "output_type": "stream",
     "text": [
      "The autoreload extension is already loaded. To reload it, use:\n",
      "  %reload_ext autoreload\n"
     ]
    }
   ],
   "source": [
    "#import file\n",
    "%load_ext autoreload\n",
    "%autoreload 2\n",
    "import random\n",
    "import threading\n",
    "\n",
    "from scripts.node import BlockchainNode\n",
    "from scripts.network import Node\n",
    "from scripts.wallet import Wallet\n",
    "from scripts.proof_of_stake import ProofOfStake\n",
    "from scripts.smart_contract import SmartContractDefinition\n",
    "\n",
    "from game.game import Game\n",
    "from game.player import Player"
   ]
  },
  {
   "cell_type": "code",
   "execution_count": 4,
   "metadata": {},
   "outputs": [],
   "source": [
    "#Settings\n",
    "numberOfPlayers=2\n",
    "playersName=[\"Arthur\", \"Lancelot\", \"Perceval\", \"Karadoc\", \"Mevanwi\", \"Bohort\", \"Merlin\"]\n",
    "cardNumber = 5\n",
    "roundNumber = 5\n",
    "nodeNumber = 3\n",
    "accountList = []\n"
   ]
  },
  {
   "cell_type": "markdown",
   "metadata": {},
   "source": [
    "## close"
   ]
  },
  {
   "cell_type": "code",
   "execution_count": 5,
   "metadata": {},
   "outputs": [
    {
     "ename": "NameError",
     "evalue": "name 'walletAlice' is not defined",
     "output_type": "error",
     "traceback": [
      "\u001b[1;31m---------------------------------------------------------------------------\u001b[0m",
      "\u001b[1;31mNameError\u001b[0m                                 Traceback (most recent call last)",
      "Cell \u001b[1;32mIn[5], line 16\u001b[0m\n\u001b[0;32m      1\u001b[0m \u001b[38;5;28;01mfrom\u001b[39;00m \u001b[38;5;21;01mscripts\u001b[39;00m\u001b[38;5;21;01m.\u001b[39;00m\u001b[38;5;21;01msmart_contract\u001b[39;00m \u001b[38;5;28;01mimport\u001b[39;00m SmartContractDefinition\n\u001b[0;32m      3\u001b[0m smartContract \u001b[38;5;241m=\u001b[39m \u001b[38;5;124m'''\u001b[39m\n\u001b[0;32m      4\u001b[0m \u001b[38;5;124mclass Rules:\u001b[39m\n\u001b[0;32m      5\u001b[0m \u001b[38;5;124m    def __init__(self, game):\u001b[39m\n\u001b[1;32m   (...)\u001b[0m\n\u001b[0;32m     13\u001b[0m \u001b[38;5;124m        \u001b[39m\n\u001b[0;32m     14\u001b[0m \u001b[38;5;124m'''\u001b[39m\n\u001b[1;32m---> 16\u001b[0m dummySmartContractDefinition \u001b[38;5;241m=\u001b[39m SmartContractDefinition(\u001b[43mwalletAlice\u001b[49m\u001b[38;5;241m.\u001b[39mpublicKey, dummySmartContract)\n\u001b[0;32m     17\u001b[0m walletAlice\u001b[38;5;241m.\u001b[39msign(dummySmartContractDefinition)\n\u001b[0;32m     19\u001b[0m \u001b[38;5;28;01massert\u001b[39;00m dummySmartContractDefinition\u001b[38;5;241m.\u001b[39m\u001b[38;5;18m__class__\u001b[39m\u001b[38;5;241m.\u001b[39m\u001b[38;5;18m__bases__\u001b[39m[\u001b[38;5;241m-\u001b[39m\u001b[38;5;241m1\u001b[39m]\u001b[38;5;241m.\u001b[39m\u001b[38;5;18m__name__\u001b[39m \u001b[38;5;241m==\u001b[39m \u001b[38;5;124m\"\u001b[39m\u001b[38;5;124mCertificate\u001b[39m\u001b[38;5;124m\"\u001b[39m\n",
      "\u001b[1;31mNameError\u001b[0m: name 'walletAlice' is not defined"
     ]
    }
   ],
   "source": [
    "from scripts.smart_contract import SmartContractDefinition\n",
    "\n",
    "smartContract = '''\n",
    "class Rules:\n",
    "    def __init__(self, game):\n",
    "        self.game = game\n",
    "\n",
    "    def is_valid(self, action):\n",
    "    \n",
    "        return True\n",
    "\n",
    "    def apply(self, action):\n",
    "        \n",
    "'''\n",
    "\n",
    "dummySmartContractDefinition = SmartContractDefinition(walletAlice.publicKey, dummySmartContract)\n",
    "walletAlice.sign(dummySmartContractDefinition)\n",
    "\n",
    "assert dummySmartContractDefinition.__class__.__bases__[-1].__name__ == \"Certificate\"\n",
    "assert dummySmartContractDefinition.sourceCode == dummySmartContract\n",
    "assert dummySmartContract in dummySmartContractDefinition.build_payload().values()\n",
    "\n",
    "\"Success!\""
   ]
  },
  {
   "cell_type": "markdown",
   "metadata": {},
   "source": [
    "## f"
   ]
  },
  {
   "cell_type": "code",
   "execution_count": 6,
   "metadata": {},
   "outputs": [
    {
     "name": "stdout",
     "output_type": "stream",
     "text": [
      "{'type': 'Wallet', 'publicKey': '...4d514938e3a285d1...'}\n",
      "{'type': 'Wallet', 'publicKey': '...25ae797dcba3e68e...'}\n"
     ]
    }
   ],
   "source": [
    "# create players account\n",
    "for i in range(numberOfPlayers):\n",
    "    accountList.append(Player(playersName[i]))"
   ]
  },
  {
   "cell_type": "code",
   "execution_count": 7,
   "metadata": {},
   "outputs": [
    {
     "name": "stdout",
     "output_type": "stream",
     "text": [
      "Game created\n",
      "Player Arthur registered\n",
      "Player Lancelot registered\n",
      "Game is launched\n",
      "Player Arthur draw cards\n",
      "Card value : 41\n",
      "Card value : 21\n",
      "Card value : 31\n",
      "Card value : 22\n",
      "Card value : 29\n",
      "[<game.card.Card object at 0x000001F5AF96D4D0>, <game.card.Card object at 0x000001F5AF95F110>, <game.card.Card object at 0x000001F5B014E690>, <game.card.Card object at 0x000001F5B014D950>, <game.card.Card object at 0x000001F5B0154950>]\n",
      "Player Lancelot draw cards\n",
      "Card value : 13\n",
      "Card value : 43\n",
      "Card value : 3\n",
      "Card value : 31\n",
      "Card value : 41\n",
      "[<game.card.Card object at 0x000001F5B014BA50>, <game.card.Card object at 0x000001F5B014ACD0>, <game.card.Card object at 0x000001F5B014B150>, <game.card.Card object at 0x000001F5B0149B90>, <game.card.Card object at 0x000001F5B014B750>]\n"
     ]
    },
    {
     "data": {
      "text/plain": [
       "True"
      ]
     },
     "execution_count": 7,
     "metadata": {},
     "output_type": "execute_result"
    }
   ],
   "source": [
    "# create game\n",
    "game = Game(numberOfPlayers, cardNumber)\n",
    "game.register(accountList[0])\n",
    "game.register(accountList[1])"
   ]
  },
  {
   "cell_type": "code",
   "execution_count": 8,
   "metadata": {},
   "outputs": [],
   "source": [
    "def playround():\n",
    "    for player in game.players:\n",
    "        player.cardSelection(random.randint(0, cardNumber-1))"
   ]
  },
  {
   "cell_type": "code",
   "execution_count": 16,
   "metadata": {},
   "outputs": [
    {
     "name": "stdout",
     "output_type": "stream",
     "text": [
      "Player Arthur selected a card\n",
      "Player Lancelot selected a card\n"
     ]
    },
    {
     "ename": "TypeError",
     "evalue": "can only concatenate str (not \"NoneType\") to str",
     "output_type": "error",
     "traceback": [
      "\u001b[1;31m---------------------------------------------------------------------------\u001b[0m",
      "\u001b[1;31mTypeError\u001b[0m                                 Traceback (most recent call last)",
      "Cell \u001b[1;32mIn[16], line 2\u001b[0m\n\u001b[0;32m      1\u001b[0m \u001b[38;5;66;03m# begin round\u001b[39;00m\n\u001b[1;32m----> 2\u001b[0m \u001b[43mgame\u001b[49m\u001b[38;5;241;43m.\u001b[39;49m\u001b[43mround\u001b[49m\u001b[43m(\u001b[49m\u001b[43m)\u001b[49m\n",
      "File \u001b[1;32mc:\\Users\\Computer\\Desktop\\projectBlockchain\\cardGame\\game\\game.py:58\u001b[0m, in \u001b[0;36mGame.round\u001b[1;34m(self)\u001b[0m\n\u001b[0;32m     54\u001b[0m \u001b[38;5;28;01mfor\u001b[39;00m \u001b[38;5;28mround\u001b[39m \u001b[38;5;129;01min\u001b[39;00m \u001b[38;5;28mrange\u001b[39m(\u001b[38;5;28mself\u001b[39m\u001b[38;5;241m.\u001b[39mcardNumber):\n\u001b[0;32m     55\u001b[0m \u001b[38;5;66;03m#check = threading.Thread(target=self.checkHavePlayed)\u001b[39;00m\n\u001b[0;32m     56\u001b[0m \u001b[38;5;66;03m#check.start()\u001b[39;00m\n\u001b[0;32m     57\u001b[0m     \u001b[38;5;28mself\u001b[39m\u001b[38;5;241m.\u001b[39mcheckHavePlayed()\n\u001b[1;32m---> 58\u001b[0m     \u001b[38;5;28mprint\u001b[39m(\u001b[38;5;124;43m\"\u001b[39;49m\u001b[38;5;124;43mRound finished, results : \u001b[39;49m\u001b[38;5;124;43m\"\u001b[39;49m\u001b[43m \u001b[49m\u001b[38;5;241;43m+\u001b[39;49m\u001b[43m \u001b[49m\u001b[38;5;28;43mself\u001b[39;49m\u001b[38;5;241;43m.\u001b[39;49m\u001b[43mcardSelected\u001b[49m\u001b[43m[\u001b[49m\u001b[38;5;241;43m0\u001b[39;49m\u001b[43m]\u001b[49m\u001b[38;5;241m+\u001b[39m \u001b[38;5;124m\"\u001b[39m\u001b[38;5;124m / \u001b[39m\u001b[38;5;124m\"\u001b[39m \u001b[38;5;241m+\u001b[39m \u001b[38;5;28mself\u001b[39m\u001b[38;5;241m.\u001b[39mcardSelected[\u001b[38;5;241m1\u001b[39m])\n",
      "\u001b[1;31mTypeError\u001b[0m: can only concatenate str (not \"NoneType\") to str"
     ]
    }
   ],
   "source": [
    "# begin round\n",
    "game.round()"
   ]
  },
  {
   "cell_type": "code",
   "execution_count": null,
   "metadata": {},
   "outputs": [],
   "source": []
  }
 ],
 "metadata": {
  "kernelspec": {
   "display_name": "base",
   "language": "python",
   "name": "python3"
  },
  "language_info": {
   "codemirror_mode": {
    "name": "ipython",
    "version": 3
   },
   "file_extension": ".py",
   "mimetype": "text/x-python",
   "name": "python",
   "nbconvert_exporter": "python",
   "pygments_lexer": "ipython3",
   "version": "3.11.7"
  }
 },
 "nbformat": 4,
 "nbformat_minor": 2
}
