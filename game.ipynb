{
 "cells": [
  {
   "cell_type": "code",
   "execution_count": 1,
   "metadata": {},
   "outputs": [],
   "source": [
    "#import file\n",
    "from game.game import Game\n"
   ]
  },
  {
   "cell_type": "code",
   "execution_count": 2,
   "metadata": {},
   "outputs": [],
   "source": [
    "#Settings\n",
    "number_of_players=2\n",
    "playersName=[\"Arthur\", \"Lancelot\", \"Perceval\", \"Karadoc\", \"Mevanwi\", \"Bohort\", \"Merlin\"]\n"
   ]
  },
  {
   "cell_type": "code",
   "execution_count": 3,
   "metadata": {},
   "outputs": [
    {
     "name": "stdout",
     "output_type": "stream",
     "text": [
      "Game created\n",
      "{'type': 'Wallet', 'publicKey': '...7710b8b5f824db8c...'}\n",
      "Player Arthur registered\n",
      "{'type': 'Wallet', 'publicKey': '...6e81825d4e8a2b96...'}\n",
      "Player Lancelot registered\n",
      "{'type': 'Game', 'playerNumber': 2, 'isLaunch': True, 'players': [<game.player.Player object at 0x0000015AD2B124D0>, <game.player.Player object at 0x0000015AD299BC10>]}\n"
     ]
    }
   ],
   "source": [
    "# Setup game\n",
    "game=Game()\n",
    "for i in range(number_of_players):\n",
    "    game.register(playersName[i])\n",
    "game.isLaunch=game.launchGame(number_of_players)\n",
    "print(game.display())"
   ]
  },
  {
   "cell_type": "code",
   "execution_count": 8,
   "metadata": {},
   "outputs": [
    {
     "ename": "AttributeError",
     "evalue": "type object 'Deck' has no attribute 'append'",
     "output_type": "error",
     "traceback": [
      "\u001b[1;31m---------------------------------------------------------------------------\u001b[0m",
      "\u001b[1;31mAttributeError\u001b[0m                            Traceback (most recent call last)",
      "Cell \u001b[1;32mIn[8], line 2\u001b[0m\n\u001b[0;32m      1\u001b[0m \u001b[38;5;66;03m# Take cards\u001b[39;00m\n\u001b[1;32m----> 2\u001b[0m \u001b[43mgame\u001b[49m\u001b[38;5;241;43m.\u001b[39;49m\u001b[43mdrawCards\u001b[49m\u001b[43m(\u001b[49m\u001b[43m)\u001b[49m\n",
      "File \u001b[1;32mc:\\Users\\Computer\\Desktop\\projectBlockchain\\cardGame\\game\\game.py:28\u001b[0m, in \u001b[0;36mGame.drawCards\u001b[1;34m(self)\u001b[0m\n\u001b[0;32m     26\u001b[0m \u001b[38;5;28;01mdef\u001b[39;00m \u001b[38;5;21mdrawCards\u001b[39m(\u001b[38;5;28mself\u001b[39m):\n\u001b[0;32m     27\u001b[0m     \u001b[38;5;28;01mfor\u001b[39;00m player \u001b[38;5;129;01min\u001b[39;00m \u001b[38;5;28mself\u001b[39m\u001b[38;5;241m.\u001b[39mplayers:\n\u001b[1;32m---> 28\u001b[0m         \u001b[43mplayer\u001b[49m\u001b[38;5;241;43m.\u001b[39;49m\u001b[43mdeck\u001b[49m\u001b[38;5;241;43m.\u001b[39;49m\u001b[43mappend\u001b[49m(\u001b[38;5;28mself\u001b[39m\u001b[38;5;241m.\u001b[39mdeck\u001b[38;5;241m.\u001b[39mcards\u001b[38;5;241m.\u001b[39mpop())\n",
      "\u001b[1;31mAttributeError\u001b[0m: type object 'Deck' has no attribute 'append'"
     ]
    }
   ],
   "source": [
    "# Take cards\n",
    "game.drawCards()"
   ]
  }
 ],
 "metadata": {
  "kernelspec": {
   "display_name": "base",
   "language": "python",
   "name": "python3"
  },
  "language_info": {
   "codemirror_mode": {
    "name": "ipython",
    "version": 3
   },
   "file_extension": ".py",
   "mimetype": "text/x-python",
   "name": "python",
   "nbconvert_exporter": "python",
   "pygments_lexer": "ipython3",
   "version": "3.11.7"
  }
 },
 "nbformat": 4,
 "nbformat_minor": 2
}
